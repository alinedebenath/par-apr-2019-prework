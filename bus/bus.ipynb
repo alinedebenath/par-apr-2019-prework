{
 "cells": [
  {
   "cell_type": "markdown",
   "metadata": {},
   "source": [
    "# Bus\n",
    "\n",
    "This bus has a passenger entry and exit control system to monitor the number of occupants it carries and thus detect when there is too high a capacity.\n",
    "\n",
    "At each stop the entry and exit of passengers is represented by a tuple consisting of two integer numbers.\n",
    "```\n",
    "bus_stop = (in, out)\n",
    "```\n",
    "The succession of stops is represented by a list of these tuples.\n",
    "```\n",
    "stops = [(in1, out1), (in2, out2), (in3, out3), (in4, out4)]\n",
    "```\n",
    "\n",
    "## Goals:\n",
    "* lists, tuples\n",
    "* while/for loops\n",
    "* minimum, maximum, length\n",
    "* average, standard deviation\n",
    "\n",
    "## Tasks\n",
    "1. Calculate the number of stops.\n",
    "2. Assign to a variable a list whose elements are the number of passengers at each stop (in-out),\n",
    "3. Find the maximum occupation of the bus.\n",
    "4. Calculate the average occupation. And the standard deviation.\n"
   ]
  },
  {
   "cell_type": "code",
   "execution_count": 8,
   "metadata": {},
   "outputs": [],
   "source": [
    "# variables\n",
    "ins=(10,2,0,25,15,2)\n",
    "outs= (0,1,8,10,5,2)"
   ]
  },
  {
   "cell_type": "code",
   "execution_count": 41,
   "metadata": {},
   "outputs": [
    {
     "name": "stdout",
     "output_type": "stream",
     "text": [
      "There are 6 bus stops.\n"
     ]
    }
   ],
   "source": [
    "# 1. Calculate the number of stops.\n",
    "bus_stop = len(ins)\n",
    "print(\"There are\", bus_stop, \"bus stops.\")\n"
   ]
  },
  {
   "cell_type": "code",
   "execution_count": 38,
   "metadata": {},
   "outputs": [
    {
     "name": "stdout",
     "output_type": "stream",
     "text": [
      "There are 10 passengers on the bus in the first stop.\n",
      "There are 11 passengers on the bus in the second stop.\n",
      "There are 3 passengers on the bus in the third stop.\n",
      "There are 18 passengers on the bus in the fourth stop.\n",
      "There are 28 passengers on the bus in the fifth stop.\n",
      "There are 28 passengers on the bus in the sixth stop.\n"
     ]
    }
   ],
   "source": [
    "# 2. Assign a variable a list whose elements are the number of passengers in each stop: \n",
    "# Each item depends on the previous item in the list + in - out.\n",
    "# I need to find a way to appeal to the precedent value of stop.\n",
    "stop1=ins[0]-outs[0]\n",
    "stop2=stop1+ins[1]-outs[1]\n",
    "stop3=stop2+ins[2]-outs[2]\n",
    "stop4=stop3+ins[3]-outs[3]\n",
    "stop5=stop4+ins[4]-outs[4]\n",
    "stop6=stop5+ins[5]-outs[5]\n",
    "print('There are', stop1, 'passengers on the bus in the first stop.')\n",
    "print('There are', stop2, 'passengers on the bus in the second stop.')\n",
    "print('There are', stop3, 'passengers on the bus in the third stop.')\n",
    "print('There are', stop4, 'passengers on the bus in the fourth stop.')\n",
    "print('There are', stop5, 'passengers on the bus in the fifth stop.')\n",
    "print('There are', stop6, 'passengers on the bus in the sixth stop.')"
   ]
  },
  {
   "cell_type": "code",
   "execution_count": 40,
   "metadata": {},
   "outputs": [
    {
     "name": "stdout",
     "output_type": "stream",
     "text": [
      "The maximum ocupation of the bus is 28 persons.\n"
     ]
    }
   ],
   "source": [
    "# 3. Find the maximum occupation of the bus.\n",
    "occupation = (stop1, stop2, stop3, stop4, stop5, stop6)\n",
    "max_occupation = max(occupation)\n",
    "print('The maximum ocupation of the bus is', max_occupation, 'persons.')\n"
   ]
  },
  {
   "cell_type": "code",
   "execution_count": 37,
   "metadata": {},
   "outputs": [
    {
     "name": "stdout",
     "output_type": "stream",
     "text": [
      "The average occupation is 16 persons.\n",
      "The standard deviation is 9.321420969406375 .\n"
     ]
    }
   ],
   "source": [
    "# 4. Calculate the average occupation. And the standard deviation.\n",
    "avg_occupation=sum(occupation)/len(occupation)\n",
    "print('The average occupation is', int(avg_occupation),'persons.')\n",
    "import statistics\n",
    "standard_deviation=statistics.pstdev(occupation)\n",
    "print('The standard deviation is', standard_deviation,'.')"
   ]
  },
  {
   "cell_type": "code",
   "execution_count": null,
   "metadata": {},
   "outputs": [],
   "source": []
  },
  {
   "cell_type": "code",
   "execution_count": null,
   "metadata": {},
   "outputs": [],
   "source": []
  },
  {
   "cell_type": "code",
   "execution_count": null,
   "metadata": {},
   "outputs": [],
   "source": []
  }
 ],
 "metadata": {
  "kernelspec": {
   "display_name": "Python 3",
   "language": "python",
   "name": "python3"
  },
  "language_info": {
   "codemirror_mode": {
    "name": "ipython",
    "version": 3
   },
   "file_extension": ".py",
   "mimetype": "text/x-python",
   "name": "python",
   "nbconvert_exporter": "python",
   "pygments_lexer": "ipython3",
   "version": "3.7.3"
  }
 },
 "nbformat": 4,
 "nbformat_minor": 2
}
