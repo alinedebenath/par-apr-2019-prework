{
 "cells": [
  {
   "cell_type": "markdown",
   "metadata": {},
   "source": [
    "# Duel of sorcerers\n",
    "You are witnessing an epic battle between two powerful sorcerers: Gandalf and Saruman. Each sorcerer has 10 spells of variable power in their mind and they are going to throw them one after the other. The winner of the duel will be the one who wins more of those clashes between spells. Spells are represented as a list of 10 integers whose value equals the power of the spell.\n",
    "```\n",
    "gandalf = [10, 11, 13, 30, 22, 11, 10, 33, 22, 22]\n",
    "saruman = [23, 66, 12, 43, 12, 10, 44, 23, 12, 17]\n",
    "```\n",
    "For example:\n",
    "1. The first clash is won by Saruman: 10 against 23, wins 23\n",
    "2. The second clash wins Saruman: 11 against 66, wins 66\n",
    "3. etc.\n",
    "\n",
    "\n",
    "You will create two variables, one for each sorcerer, where the sum of clashes won will be stored. Depending on which variable is greater at the end of the duel, you will show one of the following three results on the screen:\n",
    "* Gandalf wins\n",
    "* Saruman wins\n",
    "* Tie\n",
    "\n",
    "<img src=\"images/content_lightning_bolt_big.jpg\" width=\"400\">"
   ]
  },
  {
   "cell_type": "markdown",
   "metadata": {},
   "source": [
    "## Solution"
   ]
  },
  {
   "cell_type": "code",
   "execution_count": 14,
   "metadata": {},
   "outputs": [],
   "source": [
    "# Assign spell power lists to variables\n",
    "\n",
    "gandalf = [10, 11, 13, 30, 22, 11, 10, 33, 22, 22]\n",
    "saruman = [23, 66, 12, 43, 12, 10, 44, 23, 12, 17]"
   ]
  },
  {
   "cell_type": "code",
   "execution_count": 15,
   "metadata": {},
   "outputs": [],
   "source": [
    "# Assign 0 to each variable that stores the victories\n",
    "gandalf_score = 0\n",
    "saruman_score = 0"
   ]
  },
  {
   "cell_type": "code",
   "execution_count": 16,
   "metadata": {},
   "outputs": [
    {
     "name": "stdout",
     "output_type": "stream",
     "text": [
      "6\n",
      "4\n"
     ]
    }
   ],
   "source": [
    "# Execution of spell clashes\n",
    "\n",
    "if gandalf[0]<saruman[0]:\n",
    "    saruman_score = +1\n",
    "else:\n",
    "    gandalf_score += 1\n",
    "if gandalf[1]<saruman[1]:\n",
    "    saruman_score += 1\n",
    "else:\n",
    "    gandalf_score += 1\n",
    "if gandalf[2]<saruman[2]:\n",
    "    saruman_score += 1\n",
    "else:\n",
    "    gandalf_score += 1\n",
    "if gandalf[3]<saruman[3]:\n",
    "    saruman_score += 1\n",
    "else:\n",
    "    gandalf_score += 1\n",
    "if gandalf[4]<saruman[4]:\n",
    "    saruman_score += 1\n",
    "else:\n",
    "    gandalf_score += 1\n",
    "if gandalf[5]<saruman[5]:\n",
    "    saruman_score += 1\n",
    "else:\n",
    "    gandalf_score += 1\n",
    "if gandalf[6]<saruman[6]:\n",
    "    saruman_score += 1\n",
    "else:\n",
    "    gandalf_score += 1\n",
    "if gandalf[7]<saruman[7]:\n",
    "    saruman_score += 1\n",
    "else:\n",
    "    gandalf_score += 1\n",
    "if gandalf[8]<saruman[8]:\n",
    "    saruman_score += 1\n",
    "else:\n",
    "    gandalf_score += 1\n",
    "if gandalf[9]<saruman[9]:\n",
    "    saruman_score += 1\n",
    "else:\n",
    "    gandalf_score += 1\n",
    "print(gandalf_score)\n",
    "print(saruman_score)\n"
   ]
  },
  {
   "cell_type": "code",
   "execution_count": 17,
   "metadata": {},
   "outputs": [
    {
     "name": "stdout",
     "output_type": "stream",
     "text": [
      "Gandalf wins\n"
     ]
    }
   ],
   "source": [
    "# We check who has won, do not forget the possibility of a draw.\n",
    "if gandalf_score>saruman_score:\n",
    "    print('Gandalf wins')\n",
    "elif saruman_score>gandalf_score:\n",
    "    print('Saruman wins')\n",
    "elif saruman_score==gandalf_score:\n",
    "    print('Tie')\n",
    "# Print the result based on the winner.\n"
   ]
  },
  {
   "cell_type": "markdown",
   "metadata": {},
   "source": [
    "## Goals\n",
    "\n",
    "1. Treatment of lists\n",
    "2. Use of **for loop**\n",
    "3. Use of conditional **if-elif-else**\n",
    "4. Use of the functions **range(), len()**\n",
    "5. Print"
   ]
  },
  {
   "cell_type": "markdown",
   "metadata": {},
   "source": [
    "## Bonus\n",
    "\n",
    "1. Spells now have a name and there is a dictionary that relates that name to a power.\n",
    "2. A sorcerer wins if he succeeds in winning 3 spell clashes in a row.\n",
    "3. Average of each of the spell lists.\n",
    "4. Standard deviation of each of the spell lists.\n",
    "\n",
    "```\n",
    "POWER = {\n",
    "    'Fireball': 50, \n",
    "    'Lightning bolt': 40, \n",
    "    'Magic arrow': 10, \n",
    "    'Black Tentacles': 25, \n",
    "    'Contagion': 45\n",
    "}\n",
    "\n",
    "gandalf = ['Fireball', 'Lightning bolt', 'Lightning bolt', 'Magic arrow', 'Fireball', \n",
    "           'Magic arrow', 'Lightning bolt', 'Fireball', 'Fireball', 'Fireball']\n",
    "saruman = ['Contagion', 'Contagion', 'Black Tentacles', 'Fireball', 'Black Tentacles', \n",
    "           'Lightning bolt', 'Magic arrow', 'Contagion', 'Magic arrow', 'Magic arrow']\n",
    "```\n",
    "\n",
    "Good luck!"
   ]
  },
  {
   "cell_type": "code",
   "execution_count": 61,
   "metadata": {},
   "outputs": [],
   "source": [
    "# 1. Spells now have a name and there is a dictionary that relates that name to a power.\n",
    "# variables\n",
    "\n",
    "POWER = {\n",
    "    'Fireball': 50, \n",
    "    'Lightning bolt': 40, \n",
    "    'Magic arrow': 10, \n",
    "    'Black Tentacles': 25, \n",
    "    'Contagion': 45\n",
    "}\n",
    "\n",
    "gandalf = ['Fireball', 'Lightning bolt', 'Lightning bolt', 'Magic arrow', 'Fireball', \n",
    "           'Magic arrow', 'Lightning bolt', 'Fireball', 'Magic arrow', 'Fireball']\n",
    "saruman = ['Contagion', 'Contagion', 'Black Tentacles', 'Fireball', 'Black Tentacles', \n",
    "           'Lightning bolt', 'Magic arrow', 'Contagion', 'Magic arrow', 'Magic arrow']\n"
   ]
  },
  {
   "cell_type": "code",
   "execution_count": 62,
   "metadata": {},
   "outputs": [],
   "source": [
    "# Assign spell power lists to variables\n",
    "\n"
   ]
  },
  {
   "cell_type": "code",
   "execution_count": 63,
   "metadata": {},
   "outputs": [],
   "source": [
    "# 2. A sorcerer wins if he succeeds in winning 3 spell clashes in a row. \n",
    "while gandalf_score-saruman_score>=3 or saruman_score-gandalf_score>=3:\n",
    "   \n",
    "#Execution of spell clashes\n",
    "\n",
    "    if gandalf[0]<saruman[0]:\n",
    "        saruman_score = +1\n",
    "    else:\n",
    "        gandalf_score += 1\n",
    "    if gandalf[1]<saruman[1]:\n",
    "        saruman_score += 1\n",
    "    else:\n",
    "        gandalf_score += 1\n",
    "    if gandalf[2]<saruman[2]:\n",
    "        saruman_score += 1\n",
    "    else:\n",
    "        gandalf_score += 1\n",
    "    if gandalf[3]<saruman[3]:\n",
    "        saruman_score += 1\n",
    "    else:\n",
    "        gandalf_score += 1\n",
    "    if gandalf[4]<saruman[4]:\n",
    "        saruman_score += 1\n",
    "    else:\n",
    "        gandalf_score += 1\n",
    "    if gandalf[5]<saruman[5]:\n",
    "        saruman_score += 1\n",
    "    else:\n",
    "        gandalf_score += 1\n",
    "    if gandalf[6]<saruman[6]:\n",
    "        saruman_score += 1\n",
    "    else:\n",
    "        gandalf_score += 1\n",
    "    if gandalf[7]<saruman[7]:\n",
    "        saruman_score += 1\n",
    "    else:\n",
    "        gandalf_score += 1\n",
    "    if gandalf[8]<saruman[8]:\n",
    "        saruman_score += 1\n",
    "    else:\n",
    "        gandalf_score += 1\n",
    "    if gandalf[9]<saruman[9]:\n",
    "        saruman_score += 1\n",
    "    else:\n",
    "        gandalf_score += 1    \n",
    "    \n",
    "# check for 3 wins in a row\n",
    "if gandalf_score-saruman_score>=3:\n",
    "    print('Gandalf wins')\n",
    "elif saruman_score-gandalf_score>=3:\n",
    "    print('Saruman wins')\n",
    "\n",
    "# check the winner\n"
   ]
  },
  {
   "cell_type": "code",
   "execution_count": 64,
   "metadata": {},
   "outputs": [
    {
     "ename": "TypeError",
     "evalue": "unsupported operand type(s) for +: 'int' and 'str'",
     "output_type": "error",
     "traceback": [
      "\u001b[1;31m---------------------------------------------------------------------------\u001b[0m",
      "\u001b[1;31mTypeError\u001b[0m                                 Traceback (most recent call last)",
      "\u001b[1;32m<ipython-input-64-7e4b67ab1b9a>\u001b[0m in \u001b[0;36m<module>\u001b[1;34m\u001b[0m\n\u001b[0;32m      1\u001b[0m \u001b[1;31m# 3. Average of each of the spell lists.\u001b[0m\u001b[1;33m\u001b[0m\u001b[1;33m\u001b[0m\u001b[1;33m\u001b[0m\u001b[0m\n\u001b[1;32m----> 2\u001b[1;33m \u001b[0msum\u001b[0m\u001b[1;33m(\u001b[0m\u001b[0mgandalf\u001b[0m\u001b[1;33m)\u001b[0m\u001b[1;33m/\u001b[0m\u001b[0mlen\u001b[0m\u001b[1;33m(\u001b[0m\u001b[0mgandalf\u001b[0m\u001b[1;33m)\u001b[0m\u001b[1;33m\u001b[0m\u001b[1;33m\u001b[0m\u001b[0m\n\u001b[0m",
      "\u001b[1;31mTypeError\u001b[0m: unsupported operand type(s) for +: 'int' and 'str'"
     ]
    }
   ],
   "source": [
    "# 3. Average of each of the spell lists.\n",
    "sum(gandalf)/len(gandalf)\n",
    "sum(saruman)/len(saruman)"
   ]
  },
  {
   "cell_type": "code",
   "execution_count": 9,
   "metadata": {},
   "outputs": [],
   "source": [
    "# 4. Standard deviation of each of the spell lists.\n",
    "\n"
   ]
  },
  {
   "cell_type": "code",
   "execution_count": null,
   "metadata": {},
   "outputs": [],
   "source": []
  }
 ],
 "metadata": {
  "kernelspec": {
   "display_name": "Python 3",
   "language": "python",
   "name": "python3"
  },
  "language_info": {
   "codemirror_mode": {
    "name": "ipython",
    "version": 3
   },
   "file_extension": ".py",
   "mimetype": "text/x-python",
   "name": "python",
   "nbconvert_exporter": "python",
   "pygments_lexer": "ipython3",
   "version": "3.7.3"
  }
 },
 "nbformat": 4,
 "nbformat_minor": 2
}
