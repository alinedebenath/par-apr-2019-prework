{
 "cells": [
  {
   "cell_type": "markdown",
   "metadata": {},
   "source": [
    "# Snail and well\n",
    "\n",
    "A snail falls at the bottom of a 125 cm well. Each day the snail rises 30 cm. But at night, while sleeping, slides 20 cm because the walls are wet. How many days does it take to escape from the well?\n",
    "\n",
    "TIP: http://puzzles.nigelcoldwell.co.uk/sixtytwo.htm"
   ]
  },
  {
   "cell_type": "markdown",
   "metadata": {},
   "source": [
    "## Solución"
   ]
  },
  {
   "cell_type": "code",
   "execution_count": 54,
   "metadata": {
    "scrolled": true
   },
   "outputs": [
    {
     "name": "stdout",
     "output_type": "stream",
     "text": [
      "Days = 11\n"
     ]
    }
   ],
   "source": [
    "# Assign problem data to variables with representative names\n",
    "# well height, daily advance, night retreat, accumulated distance\n",
    "well_height = 125\n",
    "daily_advance = 30\n",
    "night_retreat = 20\n",
    "accumulated_distance = 0\n",
    "# Assign 0 to the variable that represents the solution\n",
    "days=0\n",
    "\n",
    "# Write the code that solves the problem\n",
    "# I need to deduct the night retreat from the daily advance to add 1 day. \n",
    "# If the accumulated distance before adding the night_retreat is greater than the well height, stop there.\n",
    "while accumulated_distance<well_height:\n",
    "    accumulated_distance+=daily_advance-night_retreat\n",
    "    if accumulated_distance>well_height:\n",
    "        days+=-1\n",
    "    else:\n",
    "        days+=1\n",
    "    \n",
    "print('Days =', days)   \n",
    "\n",
    "# Print the result with print('Days =', days)\n"
   ]
  },
  {
   "cell_type": "markdown",
   "metadata": {},
   "source": [
    "\n",
    "## Goals\n",
    "\n",
    "1. Treatment of variables\n",
    "2. Use of loop **while**\n",
    "3. Use of conditional **if-else**\n",
    "4. Print in console"
   ]
  },
  {
   "cell_type": "markdown",
   "metadata": {},
   "source": [
    "## Bonus\n",
    "The distance traveled by the snail is now defined by a list.\n",
    "```\n",
    "advance_cm = [30, 21, 33, 77, 44, 45, 23, 45, 12, 34, 55]\n",
    "```\n",
    "How long does it take to raise the well?\n",
    "\n",
    "What is its maximum displacement in one day? And its minimum?\n",
    "\n",
    "What is its average speed during the day?\n",
    "\n",
    "What is the standard deviation of its displacement during the day?"
   ]
  },
  {
   "cell_type": "code",
   "execution_count": 20,
   "metadata": {
    "scrolled": true
   },
   "outputs": [
    {
     "name": "stdout",
     "output_type": "stream",
     "text": [
      "Days = 5\n"
     ]
    }
   ],
   "source": [
    "# Assign problem data to variables with representative names\n",
    "# well height, daily advance, night retreat, accumulated distance\n",
    "well_height = 125\n",
    "advance_cm = [30, 21, 33, 77, 44, 45, 23, 45, 12, 34, 55]\n",
    "accumulated_distance = 0\n",
    "night_retreat = 20\n",
    "days = 0\n",
    "# Assign 0 to the variable that represents the solution\n",
    "\n",
    "\n",
    "# Write the code that solves the problem\n",
    "# I need to take every value in advance_cm and substracte the night retreat. This would be the accumulated_distance. \n",
    "#Then same equations than before.\n",
    "for val in range(len(advance_cm)):\n",
    "    while accumulated_distance<well_height:\n",
    "        accumulated_distance+=advance_cm[val]-night_retreat\n",
    "        days+=1\n",
    "        val+=1\n",
    "        if accumulated_distance>well_height:\n",
    "            days-=1\n",
    "# Print the result with print('Days =', days)\n",
    "\n",
    "print('Days =', days)\n"
   ]
  },
  {
   "cell_type": "code",
   "execution_count": 17,
   "metadata": {},
   "outputs": [
    {
     "name": "stdout",
     "output_type": "stream",
     "text": [
      "The minimum displacement in one day is 12 cm.\n",
      "The maximum displacement in one day is 77 cm.\n",
      "The average speed during the day is 38.09090909090909 cm.\n",
      "The standard deviation of its displacement during the day is 17.159437082600803 cm.\n"
     ]
    }
   ],
   "source": [
    "print('The minimum displacement in one day is', min(advance_cm), 'cm.')\n",
    "print('The maximum displacement in one day is', max(advance_cm), 'cm.')\n",
    "print('The average speed during the day is', sum(advance_cm)/len(advance_cm), 'cm.')\n",
    "import statistics\n",
    "standard_dev = statistics.pstdev(advance_cm)\n",
    "print('The standard deviation of its displacement during the day is', standard_dev, 'cm.')"
   ]
  },
  {
   "cell_type": "code",
   "execution_count": null,
   "metadata": {},
   "outputs": [],
   "source": []
  }
 ],
 "metadata": {
  "kernelspec": {
   "display_name": "Python 3",
   "language": "python",
   "name": "python3"
  },
  "language_info": {
   "codemirror_mode": {
    "name": "ipython",
    "version": 3
   },
   "file_extension": ".py",
   "mimetype": "text/x-python",
   "name": "python",
   "nbconvert_exporter": "python",
   "pygments_lexer": "ipython3",
   "version": "3.7.3"
  }
 },
 "nbformat": 4,
 "nbformat_minor": 2
}
